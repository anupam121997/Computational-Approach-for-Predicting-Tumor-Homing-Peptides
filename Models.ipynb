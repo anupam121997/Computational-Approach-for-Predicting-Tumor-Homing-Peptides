{
 "cells": [
  {
   "cell_type": "code",
   "execution_count": 1,
   "id": "sorted-forwarding",
   "metadata": {},
   "outputs": [],
   "source": [
    "from sklearn.tree import DecisionTreeClassifier \n",
    "from sklearn import metrics\n",
    "from sklearn.pipeline import make_pipeline\n",
    "from sklearn.ensemble import StackingClassifier\n",
    "from sklearn.preprocessing import StandardScaler\n",
    "from xgboost import XGBClassifier\n",
    "from sklearn.ensemble import AdaBoostClassifier\n",
    "from keras.models import Sequential\n",
    "from keras.layers import Dense, Conv2D, Flatten\n",
    "from keras.layers import BatchNormalization\n",
    "from tensorflow.keras.layers import MaxPooling2D\n",
    "from sklearn.neural_network import MLPClassifier\n",
    "from sklearn.metrics import accuracy_score\n",
    "from sklearn.metrics import log_loss\n",
    "import sklearn\n",
    "import pickle"
   ]
  },
  {
   "cell_type": "code",
   "execution_count": 2,
   "id": "french-nashville",
   "metadata": {},
   "outputs": [],
   "source": [
    "import numpy as np\n",
    "import pandas as pd\n",
    "from sklearn.metrics import confusion_matrix\n",
    "from sklearn.model_selection import train_test_split\n",
    "from sklearn.linear_model import LogisticRegression\n",
    "from sklearn.neighbors import KNeighborsClassifier\n",
    "from sklearn.svm import SVC\n",
    "from sklearn.naive_bayes import GaussianNB\n",
    "from sklearn.tree import DecisionTreeClassifier\n",
    "from sklearn.ensemble import RandomForestClassifier\n",
    "from keras.models import Sequential\n",
    "from keras.layers import Dense, ReLU\n",
    "import tensorflow as tf                # To remove logging\n",
    "from statistics import mode"
   ]
  },
  {
   "cell_type": "code",
   "execution_count": 3,
   "id": "going-dependence",
   "metadata": {},
   "outputs": [],
   "source": [
    "with open(\"dpc_train.pkl\", \"rb\") as fil:\n",
    "    train = pickle.load(fil)\n",
    "\n",
    "with open(\"dpc_test.pkl\", \"rb\") as fil:\n",
    "    test = pickle.load(fil)    \n",
    "fil.close()"
   ]
  },
  {
   "cell_type": "code",
   "execution_count": 4,
   "id": "intermediate-serial",
   "metadata": {},
   "outputs": [],
   "source": [
    "x_train = [dat[:-1] for dat in train]\n",
    "y_train= [dat[-1:][0] for dat in train]\n",
    "\n",
    "x_test = [dat[:-1] for dat in test]\n",
    "y_test= [dat[-1:][0] for dat in test]"
   ]
  },
  {
   "cell_type": "code",
   "execution_count": 5,
   "id": "overhead-contrary",
   "metadata": {},
   "outputs": [
    {
     "name": "stdout",
     "output_type": "stream",
     "text": [
      "Iteration 1, loss = 0.71234457\n",
      "Iteration 2, loss = 0.70060086\n",
      "Iteration 3, loss = 0.69326425\n",
      "Iteration 4, loss = 0.68976390\n",
      "Iteration 5, loss = 0.68853209\n",
      "Iteration 6, loss = 0.68666686\n",
      "Iteration 7, loss = 0.68472641\n",
      "Iteration 8, loss = 0.68214853\n",
      "Iteration 9, loss = 0.67961552\n",
      "Iteration 10, loss = 0.67684474\n",
      "Iteration 11, loss = 0.67329217\n",
      "Iteration 12, loss = 0.66952407\n",
      "Iteration 13, loss = 0.66565228\n",
      "Iteration 14, loss = 0.66018697\n",
      "Iteration 15, loss = 0.65490863\n",
      "Iteration 16, loss = 0.64924497\n",
      "Iteration 17, loss = 0.64217639\n",
      "Iteration 18, loss = 0.63517951\n",
      "Iteration 19, loss = 0.62728089\n",
      "Iteration 20, loss = 0.61877391\n",
      "Iteration 21, loss = 0.60973175\n",
      "Iteration 22, loss = 0.59984231\n",
      "Iteration 23, loss = 0.58950877\n",
      "Iteration 24, loss = 0.57897643\n",
      "Iteration 25, loss = 0.56775108\n",
      "Iteration 26, loss = 0.55584424\n",
      "Iteration 27, loss = 0.54390956\n",
      "Iteration 28, loss = 0.53189461\n",
      "Iteration 29, loss = 0.51978877\n",
      "Iteration 30, loss = 0.50824031\n",
      "Iteration 31, loss = 0.49691961\n",
      "Iteration 32, loss = 0.48542829\n",
      "Iteration 33, loss = 0.47450755\n",
      "Iteration 34, loss = 0.46438050\n",
      "Iteration 35, loss = 0.45431386\n",
      "Iteration 36, loss = 0.44532369\n",
      "Iteration 37, loss = 0.43622561\n",
      "Iteration 38, loss = 0.42723448\n",
      "Iteration 39, loss = 0.41948109\n",
      "Iteration 40, loss = 0.41144550\n",
      "Iteration 41, loss = 0.40406708\n",
      "Iteration 42, loss = 0.39770936\n",
      "Iteration 43, loss = 0.39074935\n",
      "Iteration 44, loss = 0.38359328\n",
      "Iteration 45, loss = 0.37887616\n",
      "Iteration 46, loss = 0.37255048\n",
      "Iteration 47, loss = 0.36694735\n",
      "Iteration 48, loss = 0.36188691\n",
      "Iteration 49, loss = 0.35756808\n",
      "Iteration 50, loss = 0.35203357\n",
      "Iteration 51, loss = 0.34825604\n",
      "Iteration 52, loss = 0.34341517\n",
      "Iteration 53, loss = 0.34078983\n",
      "Iteration 54, loss = 0.33583427\n",
      "Iteration 55, loss = 0.33263552\n",
      "Iteration 56, loss = 0.32859775\n",
      "Iteration 57, loss = 0.32558410\n",
      "Iteration 58, loss = 0.32177051\n",
      "Iteration 59, loss = 0.31941036\n",
      "Iteration 60, loss = 0.31860842\n",
      "Iteration 61, loss = 0.31321126\n",
      "Iteration 62, loss = 0.30942190\n",
      "Iteration 63, loss = 0.30744365\n",
      "Iteration 64, loss = 0.30476224\n",
      "Iteration 65, loss = 0.30119112\n",
      "Iteration 66, loss = 0.30007230\n",
      "Iteration 67, loss = 0.29655239\n",
      "Iteration 68, loss = 0.29535763\n",
      "Iteration 69, loss = 0.29237242\n",
      "Iteration 70, loss = 0.28970838\n",
      "Iteration 71, loss = 0.28713364\n",
      "Iteration 72, loss = 0.28489475\n",
      "Iteration 73, loss = 0.28292585\n",
      "Iteration 74, loss = 0.28068466\n",
      "Iteration 75, loss = 0.27830825\n",
      "Iteration 76, loss = 0.27708826\n",
      "Iteration 77, loss = 0.27471205\n",
      "Iteration 78, loss = 0.27241654\n",
      "Iteration 79, loss = 0.27176930\n",
      "Iteration 80, loss = 0.26979453\n",
      "Iteration 81, loss = 0.26712116\n",
      "Iteration 82, loss = 0.26571772\n",
      "Iteration 83, loss = 0.26347899\n",
      "Iteration 84, loss = 0.26176948\n",
      "Iteration 85, loss = 0.26011978\n",
      "Iteration 86, loss = 0.25871380\n",
      "Iteration 87, loss = 0.25837228\n",
      "Iteration 88, loss = 0.25547873\n",
      "Iteration 89, loss = 0.25416633\n",
      "Iteration 90, loss = 0.25318678\n",
      "Iteration 91, loss = 0.25064551\n",
      "Iteration 92, loss = 0.24929954\n",
      "Iteration 93, loss = 0.24777199\n",
      "Iteration 94, loss = 0.24642978\n",
      "Iteration 95, loss = 0.24690448\n",
      "Iteration 96, loss = 0.24312767\n",
      "Iteration 97, loss = 0.24250442\n",
      "Iteration 98, loss = 0.24177437\n",
      "Iteration 99, loss = 0.24046273\n",
      "Iteration 100, loss = 0.23957565\n",
      "Iteration 101, loss = 0.23667951\n",
      "Iteration 102, loss = 0.23583525\n",
      "Iteration 103, loss = 0.23391807\n",
      "Iteration 104, loss = 0.23298135\n",
      "Iteration 105, loss = 0.23105318\n",
      "Iteration 106, loss = 0.23075400\n",
      "Iteration 107, loss = 0.22984748\n",
      "Iteration 108, loss = 0.22867101\n",
      "Iteration 109, loss = 0.22634891\n",
      "Iteration 110, loss = 0.22576221\n",
      "Iteration 111, loss = 0.22401194\n",
      "Iteration 112, loss = 0.22426545\n",
      "Iteration 113, loss = 0.22165069\n",
      "Iteration 114, loss = 0.22043126\n",
      "Iteration 115, loss = 0.21949387\n",
      "Iteration 116, loss = 0.21824003\n",
      "Iteration 117, loss = 0.21685563\n",
      "Iteration 118, loss = 0.21588297\n",
      "Iteration 119, loss = 0.21501499\n",
      "Iteration 120, loss = 0.21357720\n",
      "Iteration 121, loss = 0.21225835\n",
      "Iteration 122, loss = 0.21194028\n",
      "Iteration 123, loss = 0.21080382\n",
      "Iteration 124, loss = 0.20836478\n",
      "Iteration 125, loss = 0.20823986\n",
      "Iteration 126, loss = 0.20652354\n",
      "Iteration 127, loss = 0.20951324\n",
      "Iteration 128, loss = 0.20510451\n",
      "Iteration 129, loss = 0.20413139\n",
      "Iteration 130, loss = 0.20213580\n",
      "Iteration 131, loss = 0.20134813\n",
      "Iteration 132, loss = 0.20048324\n",
      "Iteration 133, loss = 0.19891797\n",
      "Iteration 134, loss = 0.19795830\n",
      "Iteration 135, loss = 0.19661429\n",
      "Iteration 136, loss = 0.19458861\n",
      "Iteration 137, loss = 0.19455912\n",
      "Iteration 138, loss = 0.19272192\n",
      "Iteration 139, loss = 0.19310492\n",
      "Iteration 140, loss = 0.19057505\n",
      "Iteration 141, loss = 0.18920065\n",
      "Iteration 142, loss = 0.18794600\n",
      "Iteration 143, loss = 0.18682188\n",
      "Iteration 144, loss = 0.18550350\n",
      "Iteration 145, loss = 0.18446079\n",
      "Iteration 146, loss = 0.18383050\n",
      "Iteration 147, loss = 0.18347397\n",
      "Iteration 148, loss = 0.18336382\n",
      "Iteration 149, loss = 0.18050571\n",
      "Iteration 150, loss = 0.17973774\n",
      "Iteration 151, loss = 0.17863882\n",
      "Iteration 152, loss = 0.17716813\n",
      "Iteration 153, loss = 0.17632181\n",
      "Iteration 154, loss = 0.17468457\n",
      "Iteration 155, loss = 0.17436096\n",
      "Iteration 156, loss = 0.17309502\n",
      "Iteration 157, loss = 0.17199482\n",
      "Iteration 158, loss = 0.17133388\n",
      "Iteration 159, loss = 0.17054804\n",
      "Iteration 160, loss = 0.16988024\n",
      "Iteration 161, loss = 0.16895327\n",
      "Iteration 162, loss = 0.16783782\n",
      "Iteration 163, loss = 0.16746898\n",
      "Iteration 164, loss = 0.16542317\n",
      "Iteration 165, loss = 0.16427031\n",
      "Iteration 166, loss = 0.16333095\n",
      "Iteration 167, loss = 0.16395141\n",
      "Iteration 168, loss = 0.16287757\n",
      "Iteration 169, loss = 0.16582434\n",
      "Iteration 170, loss = 0.16393400\n",
      "Iteration 171, loss = 0.15969786\n",
      "Iteration 172, loss = 0.15916749\n",
      "Iteration 173, loss = 0.15768800\n",
      "Iteration 174, loss = 0.15623010\n",
      "Iteration 175, loss = 0.15531217\n",
      "Iteration 176, loss = 0.15562681\n",
      "Iteration 177, loss = 0.15390363\n",
      "Iteration 178, loss = 0.15313163\n",
      "Iteration 179, loss = 0.15342385\n",
      "Iteration 180, loss = 0.15118179\n",
      "Iteration 181, loss = 0.15025026\n",
      "Iteration 182, loss = 0.14940410\n",
      "Iteration 183, loss = 0.14802313\n",
      "Iteration 184, loss = 0.14871753\n",
      "Iteration 185, loss = 0.14720098\n",
      "Iteration 186, loss = 0.14611029\n",
      "Iteration 187, loss = 0.14568198\n",
      "Iteration 188, loss = 0.14493665\n",
      "Iteration 189, loss = 0.14434685\n",
      "Iteration 190, loss = 0.14482310\n",
      "Iteration 191, loss = 0.14292348\n",
      "Iteration 192, loss = 0.14179546\n",
      "Iteration 193, loss = 0.14145307\n",
      "Iteration 194, loss = 0.14111083\n",
      "Iteration 195, loss = 0.14019020\n",
      "Iteration 196, loss = 0.14087159\n",
      "Iteration 197, loss = 0.14039738\n",
      "Iteration 198, loss = 0.13948646\n",
      "Iteration 199, loss = 0.13777635\n",
      "Iteration 200, loss = 0.13660389\n",
      "Iteration 201, loss = 0.13493795\n",
      "Iteration 202, loss = 0.13539012\n",
      "Iteration 203, loss = 0.13451007\n",
      "Iteration 204, loss = 0.13315929\n",
      "Iteration 205, loss = 0.13521481\n",
      "Iteration 206, loss = 0.13528294\n",
      "Iteration 207, loss = 0.13489391\n",
      "Iteration 208, loss = 0.13119705\n",
      "Iteration 209, loss = 0.13072333\n",
      "Iteration 210, loss = 0.12948339\n",
      "Iteration 211, loss = 0.12965077\n",
      "Iteration 212, loss = 0.12834109\n",
      "Iteration 213, loss = 0.12748278\n",
      "Iteration 214, loss = 0.12649997\n",
      "Iteration 215, loss = 0.12682623\n",
      "Iteration 216, loss = 0.12803566\n",
      "Iteration 217, loss = 0.12629162\n",
      "Iteration 218, loss = 0.12431749\n",
      "Iteration 219, loss = 0.12323768\n",
      "Iteration 220, loss = 0.12650375\n",
      "Iteration 221, loss = 0.12925609\n",
      "Iteration 222, loss = 0.12368391\n",
      "Iteration 223, loss = 0.12417210\n",
      "Iteration 224, loss = 0.12097187\n",
      "Iteration 225, loss = 0.12057170\n",
      "Iteration 226, loss = 0.12274086\n",
      "Iteration 227, loss = 0.12133770\n",
      "Iteration 228, loss = 0.11859298\n",
      "Iteration 229, loss = 0.11777271\n",
      "Iteration 230, loss = 0.11702825\n",
      "Iteration 231, loss = 0.11716292\n",
      "Iteration 232, loss = 0.11749733\n",
      "Iteration 233, loss = 0.11679023\n",
      "Iteration 234, loss = 0.11676540\n",
      "Iteration 235, loss = 0.11502749\n",
      "Iteration 236, loss = 0.11434448\n",
      "Iteration 237, loss = 0.11334703\n",
      "Iteration 238, loss = 0.11348672\n",
      "Iteration 239, loss = 0.11258662\n",
      "Iteration 240, loss = 0.11327496\n",
      "Iteration 241, loss = 0.11372371\n",
      "Iteration 242, loss = 0.11353223\n",
      "Iteration 243, loss = 0.11079961\n",
      "Iteration 244, loss = 0.11064769\n",
      "Iteration 245, loss = 0.10964705\n",
      "Iteration 246, loss = 0.10910885\n",
      "Iteration 247, loss = 0.10832824\n",
      "Iteration 248, loss = 0.10816820\n",
      "Iteration 249, loss = 0.10759677\n",
      "Iteration 250, loss = 0.10763839\n",
      "Iteration 251, loss = 0.10642936\n",
      "Iteration 252, loss = 0.10645298\n",
      "Iteration 253, loss = 0.10589624\n",
      "Iteration 254, loss = 0.10538655\n",
      "Iteration 255, loss = 0.10500973\n",
      "Iteration 256, loss = 0.10480037\n",
      "Iteration 257, loss = 0.10416486\n",
      "Iteration 258, loss = 0.10575773\n",
      "Iteration 259, loss = 0.10628486\n",
      "Iteration 260, loss = 0.10336894\n",
      "Iteration 261, loss = 0.10245654\n",
      "Iteration 262, loss = 0.10171300\n",
      "Iteration 263, loss = 0.10140587\n",
      "Iteration 264, loss = 0.10087387\n",
      "Iteration 265, loss = 0.10024056\n",
      "Iteration 266, loss = 0.10083784\n",
      "Iteration 267, loss = 0.10070929\n"
     ]
    },
    {
     "name": "stdout",
     "output_type": "stream",
     "text": [
      "Iteration 268, loss = 0.09998276\n",
      "Iteration 269, loss = 0.10095775\n",
      "Iteration 270, loss = 0.10379387\n",
      "Iteration 271, loss = 0.10028830\n",
      "Iteration 272, loss = 0.09811168\n",
      "Iteration 273, loss = 0.09795536\n",
      "Iteration 274, loss = 0.09699229\n",
      "Iteration 275, loss = 0.09992173\n",
      "Iteration 276, loss = 0.09829859\n",
      "Iteration 277, loss = 0.09697330\n",
      "Iteration 278, loss = 0.09530273\n",
      "Iteration 279, loss = 0.09496915\n",
      "Iteration 280, loss = 0.09449994\n",
      "Iteration 281, loss = 0.09390992\n",
      "Iteration 282, loss = 0.09341757\n",
      "Iteration 283, loss = 0.09465762\n",
      "Iteration 284, loss = 0.09480146\n",
      "Iteration 285, loss = 0.09189350\n",
      "Iteration 286, loss = 0.09158306\n",
      "Iteration 287, loss = 0.09139714\n",
      "Iteration 288, loss = 0.09067230\n",
      "Iteration 289, loss = 0.09065401\n",
      "Iteration 290, loss = 0.09272890\n",
      "Iteration 291, loss = 0.09354502\n",
      "Iteration 292, loss = 0.09137249\n",
      "Iteration 293, loss = 0.08938455\n",
      "Iteration 294, loss = 0.08884088\n",
      "Iteration 295, loss = 0.08795213\n",
      "Iteration 296, loss = 0.08769134\n",
      "Iteration 297, loss = 0.08735303\n",
      "Iteration 298, loss = 0.08707609\n",
      "Iteration 299, loss = 0.08673791\n",
      "Iteration 300, loss = 0.08764970\n",
      "Iteration 301, loss = 0.08700567\n",
      "Iteration 302, loss = 0.08727089\n",
      "Iteration 303, loss = 0.08615203\n",
      "Iteration 304, loss = 0.08456495\n",
      "Iteration 305, loss = 0.08405831\n",
      "Iteration 306, loss = 0.08404487\n",
      "Iteration 307, loss = 0.08402198\n",
      "Iteration 308, loss = 0.08296452\n",
      "Iteration 309, loss = 0.08366884\n",
      "Iteration 310, loss = 0.08308898\n",
      "Iteration 311, loss = 0.08221638\n",
      "Iteration 312, loss = 0.08230910\n",
      "Iteration 313, loss = 0.08168187\n",
      "Iteration 314, loss = 0.08112449\n",
      "Iteration 315, loss = 0.08067711\n",
      "Iteration 316, loss = 0.08159736\n",
      "Iteration 317, loss = 0.08024322\n",
      "Iteration 318, loss = 0.08042510\n",
      "Iteration 319, loss = 0.07968556\n",
      "Iteration 320, loss = 0.07892249\n",
      "Iteration 321, loss = 0.07881640\n",
      "Iteration 322, loss = 0.07816613\n",
      "Iteration 323, loss = 0.07950017\n",
      "Iteration 324, loss = 0.07772156\n",
      "Iteration 325, loss = 0.07740319\n",
      "Iteration 326, loss = 0.07702863\n",
      "Iteration 327, loss = 0.07634040\n",
      "Iteration 328, loss = 0.07622651\n",
      "Iteration 329, loss = 0.07672562\n",
      "Iteration 330, loss = 0.07526130\n",
      "Iteration 331, loss = 0.07532430\n",
      "Iteration 332, loss = 0.07504413\n",
      "Iteration 333, loss = 0.07511594\n",
      "Iteration 334, loss = 0.07643116\n",
      "Iteration 335, loss = 0.07906746\n",
      "Iteration 336, loss = 0.07509759\n",
      "Iteration 337, loss = 0.07479111\n",
      "Iteration 338, loss = 0.07676805\n",
      "Iteration 339, loss = 0.07458391\n",
      "Iteration 340, loss = 0.07341607\n",
      "Iteration 341, loss = 0.07275755\n",
      "Iteration 342, loss = 0.07214193\n",
      "Iteration 343, loss = 0.07230675\n",
      "Iteration 344, loss = 0.07359983\n",
      "Iteration 345, loss = 0.07066051\n",
      "Iteration 346, loss = 0.07034699\n",
      "Iteration 347, loss = 0.06989389\n",
      "Iteration 348, loss = 0.06981108\n",
      "Iteration 349, loss = 0.06958322\n",
      "Iteration 350, loss = 0.06939658\n",
      "Iteration 351, loss = 0.06895513\n",
      "Iteration 352, loss = 0.06895688\n",
      "Iteration 353, loss = 0.06867545\n",
      "Iteration 354, loss = 0.07068849\n",
      "Iteration 355, loss = 0.07140864\n",
      "Iteration 356, loss = 0.06891430\n",
      "Iteration 357, loss = 0.06893751\n",
      "Iteration 358, loss = 0.06810004\n",
      "Iteration 359, loss = 0.07147017\n",
      "Iteration 360, loss = 0.07040524\n",
      "Iteration 361, loss = 0.06634948\n",
      "Iteration 362, loss = 0.06550730\n",
      "Iteration 363, loss = 0.06655242\n",
      "Iteration 364, loss = 0.06554180\n",
      "Iteration 365, loss = 0.06705783\n",
      "Iteration 366, loss = 0.06549739\n",
      "Iteration 367, loss = 0.06578458\n",
      "Iteration 368, loss = 0.06378586\n",
      "Iteration 369, loss = 0.06389337\n",
      "Iteration 370, loss = 0.06308446\n",
      "Iteration 371, loss = 0.06282758\n",
      "Iteration 372, loss = 0.06242708\n",
      "Iteration 373, loss = 0.06227598\n",
      "Iteration 374, loss = 0.06240261\n",
      "Iteration 375, loss = 0.06220703\n",
      "Iteration 376, loss = 0.06479983\n",
      "Iteration 377, loss = 0.06136621\n",
      "Iteration 378, loss = 0.06176284\n",
      "Iteration 379, loss = 0.06112154\n",
      "Iteration 380, loss = 0.06018470\n",
      "Iteration 381, loss = 0.06097266\n",
      "Iteration 382, loss = 0.06101055\n",
      "Iteration 383, loss = 0.05998882\n",
      "Iteration 384, loss = 0.06044669\n",
      "Iteration 385, loss = 0.05918245\n",
      "Iteration 386, loss = 0.05902871\n",
      "Iteration 387, loss = 0.05960573\n",
      "Iteration 388, loss = 0.05970042\n",
      "Iteration 389, loss = 0.05872425\n",
      "Iteration 390, loss = 0.05747716\n",
      "Iteration 391, loss = 0.05829539\n",
      "Iteration 392, loss = 0.05775296\n",
      "Iteration 393, loss = 0.05720793\n",
      "Iteration 394, loss = 0.05641508\n",
      "Iteration 395, loss = 0.05623001\n",
      "Iteration 396, loss = 0.05637504\n",
      "Iteration 397, loss = 0.05571349\n",
      "Iteration 398, loss = 0.05577516\n",
      "Iteration 399, loss = 0.05574663\n",
      "Iteration 400, loss = 0.05539816\n",
      "Iteration 401, loss = 0.05543788\n",
      "Iteration 402, loss = 0.05443155\n",
      "Iteration 403, loss = 0.05495774\n",
      "Iteration 404, loss = 0.05555804\n",
      "Iteration 405, loss = 0.05404311\n",
      "Iteration 406, loss = 0.05476330\n",
      "Iteration 407, loss = 0.05373026\n",
      "Iteration 408, loss = 0.05306091\n",
      "Iteration 409, loss = 0.05352235\n",
      "Iteration 410, loss = 0.05456408\n",
      "Iteration 411, loss = 0.05397034\n",
      "Iteration 412, loss = 0.05445552\n",
      "Iteration 413, loss = 0.05307981\n",
      "Iteration 414, loss = 0.05272299\n",
      "Iteration 415, loss = 0.05201991\n",
      "Iteration 416, loss = 0.05102809\n",
      "Iteration 417, loss = 0.05107531\n",
      "Iteration 418, loss = 0.05097586\n",
      "Iteration 419, loss = 0.05036770\n",
      "Iteration 420, loss = 0.05001050\n",
      "Iteration 421, loss = 0.04963272\n",
      "Iteration 422, loss = 0.04951997\n",
      "Iteration 423, loss = 0.04917145\n",
      "Iteration 424, loss = 0.04903504\n",
      "Iteration 425, loss = 0.04920556\n",
      "Iteration 426, loss = 0.04854647\n",
      "Iteration 427, loss = 0.04878133\n",
      "Iteration 428, loss = 0.04947215\n",
      "Iteration 429, loss = 0.05285789\n",
      "Iteration 430, loss = 0.04975223\n",
      "Iteration 431, loss = 0.04837449\n",
      "Iteration 432, loss = 0.04723621\n",
      "Iteration 433, loss = 0.04743321\n",
      "Iteration 434, loss = 0.04753796\n",
      "Iteration 435, loss = 0.04659144\n",
      "Iteration 436, loss = 0.04614007\n",
      "Iteration 437, loss = 0.04612483\n",
      "Iteration 438, loss = 0.04564465\n",
      "Iteration 439, loss = 0.04563684\n",
      "Iteration 440, loss = 0.04546632\n",
      "Iteration 441, loss = 0.04614189\n",
      "Iteration 442, loss = 0.04554951\n",
      "Iteration 443, loss = 0.04547413\n",
      "Iteration 444, loss = 0.04609408\n",
      "Iteration 445, loss = 0.04628285\n",
      "Iteration 446, loss = 0.04607290\n",
      "Iteration 447, loss = 0.04514370\n",
      "Iteration 448, loss = 0.04367654\n",
      "Iteration 449, loss = 0.04347143\n",
      "Iteration 450, loss = 0.04340043\n",
      "Iteration 451, loss = 0.04330048\n",
      "Iteration 452, loss = 0.04269124\n",
      "Iteration 453, loss = 0.04382485\n",
      "Iteration 454, loss = 0.04358611\n",
      "Iteration 455, loss = 0.04304193\n",
      "Iteration 456, loss = 0.04520752\n",
      "Iteration 457, loss = 0.04451633\n",
      "Iteration 458, loss = 0.04290622\n",
      "Iteration 459, loss = 0.04216063\n",
      "Iteration 460, loss = 0.04187241\n",
      "Iteration 461, loss = 0.04116119\n",
      "Iteration 462, loss = 0.04090175\n",
      "Iteration 463, loss = 0.04097021\n",
      "Iteration 464, loss = 0.04065272\n",
      "Iteration 465, loss = 0.04089287\n",
      "Iteration 466, loss = 0.03994207\n",
      "Iteration 467, loss = 0.03970415\n",
      "Iteration 468, loss = 0.03982304\n",
      "Iteration 469, loss = 0.03979875\n",
      "Iteration 470, loss = 0.03939351\n",
      "Iteration 471, loss = 0.03920965\n",
      "Iteration 472, loss = 0.03939287\n",
      "Iteration 473, loss = 0.03966166\n",
      "Iteration 474, loss = 0.03863921\n",
      "Iteration 475, loss = 0.03878653\n",
      "Iteration 476, loss = 0.03890487\n",
      "Iteration 477, loss = 0.03915525\n",
      "Iteration 478, loss = 0.03753560\n",
      "Iteration 479, loss = 0.03911742\n",
      "Iteration 480, loss = 0.03762923\n",
      "Iteration 481, loss = 0.03751066\n",
      "Iteration 482, loss = 0.03691734\n",
      "Iteration 483, loss = 0.03707835\n",
      "Iteration 484, loss = 0.03671268\n",
      "Iteration 485, loss = 0.03643245\n",
      "Iteration 486, loss = 0.03643828\n",
      "Iteration 487, loss = 0.03612907\n",
      "Iteration 488, loss = 0.03590060\n",
      "Iteration 489, loss = 0.03590366\n",
      "Iteration 490, loss = 0.03569970\n",
      "Iteration 491, loss = 0.03537563\n",
      "Iteration 492, loss = 0.03729194\n",
      "Iteration 493, loss = 0.03719512\n",
      "Iteration 494, loss = 0.03540783\n",
      "Iteration 495, loss = 0.03463794\n",
      "Iteration 496, loss = 0.03496738\n",
      "Iteration 497, loss = 0.03532092\n",
      "Iteration 498, loss = 0.03458932\n",
      "Iteration 499, loss = 0.03391747\n",
      "Iteration 500, loss = 0.03398799\n",
      "Iteration 501, loss = 0.03423670\n",
      "Iteration 502, loss = 0.03372643\n",
      "Iteration 503, loss = 0.03389459\n",
      "Iteration 504, loss = 0.03341529\n",
      "Iteration 505, loss = 0.03373911\n",
      "Iteration 506, loss = 0.03379966\n",
      "Iteration 507, loss = 0.03366165\n",
      "Iteration 508, loss = 0.03267539\n",
      "Iteration 509, loss = 0.03334525\n",
      "Iteration 510, loss = 0.03387897\n",
      "Iteration 511, loss = 0.03259958\n",
      "Iteration 512, loss = 0.03211163\n",
      "Iteration 513, loss = 0.03194097\n",
      "Iteration 514, loss = 0.03163662\n",
      "Iteration 515, loss = 0.03168396\n",
      "Iteration 516, loss = 0.03138915\n",
      "Iteration 517, loss = 0.03124505\n",
      "Iteration 518, loss = 0.03117955\n",
      "Iteration 519, loss = 0.03147786\n",
      "Iteration 520, loss = 0.03253306\n",
      "Iteration 521, loss = 0.03173008\n",
      "Iteration 522, loss = 0.03093160\n",
      "Iteration 523, loss = 0.03068847\n",
      "Iteration 524, loss = 0.03060545\n",
      "Iteration 525, loss = 0.03123244\n",
      "Iteration 526, loss = 0.03007913\n",
      "Iteration 527, loss = 0.03016224\n"
     ]
    },
    {
     "name": "stdout",
     "output_type": "stream",
     "text": [
      "Iteration 528, loss = 0.02972089\n",
      "Iteration 529, loss = 0.02976902\n",
      "Iteration 530, loss = 0.02947863\n",
      "Iteration 531, loss = 0.02918925\n",
      "Iteration 532, loss = 0.02967295\n",
      "Iteration 533, loss = 0.02902229\n",
      "Iteration 534, loss = 0.02975546\n",
      "Iteration 535, loss = 0.03045870\n",
      "Iteration 536, loss = 0.02890139\n",
      "Iteration 537, loss = 0.02861415\n",
      "Iteration 538, loss = 0.02839053\n",
      "Iteration 539, loss = 0.02834452\n",
      "Iteration 540, loss = 0.02778420\n",
      "Iteration 541, loss = 0.02923140\n",
      "Iteration 542, loss = 0.02866502\n",
      "Iteration 543, loss = 0.02795505\n",
      "Iteration 544, loss = 0.02781334\n",
      "Iteration 545, loss = 0.02778634\n",
      "Iteration 546, loss = 0.02823749\n",
      "Iteration 547, loss = 0.02744238\n",
      "Iteration 548, loss = 0.02689002\n",
      "Iteration 549, loss = 0.02685971\n",
      "Iteration 550, loss = 0.02680166\n",
      "Iteration 551, loss = 0.02668767\n",
      "Iteration 552, loss = 0.02647827\n",
      "Iteration 553, loss = 0.02694840\n",
      "Iteration 554, loss = 0.02711988\n",
      "Iteration 555, loss = 0.02712205\n",
      "Iteration 556, loss = 0.02662057\n",
      "Iteration 557, loss = 0.02581993\n",
      "Iteration 558, loss = 0.02615855\n",
      "Iteration 559, loss = 0.02562882\n",
      "Iteration 560, loss = 0.02552743\n",
      "Iteration 561, loss = 0.02539155\n",
      "Iteration 562, loss = 0.02535190\n",
      "Iteration 563, loss = 0.02505621\n",
      "Iteration 564, loss = 0.02508059\n",
      "Iteration 565, loss = 0.02524696\n",
      "Iteration 566, loss = 0.02505247\n",
      "Iteration 567, loss = 0.02443482\n",
      "Iteration 568, loss = 0.02534726\n",
      "Iteration 569, loss = 0.02445852\n",
      "Iteration 570, loss = 0.02440574\n",
      "Iteration 571, loss = 0.02449378\n",
      "Iteration 572, loss = 0.02414061\n",
      "Iteration 573, loss = 0.02404662\n",
      "Iteration 574, loss = 0.02392397\n",
      "Iteration 575, loss = 0.02432948\n",
      "Iteration 576, loss = 0.02379338\n",
      "Iteration 577, loss = 0.02383709\n",
      "Iteration 578, loss = 0.02345406\n",
      "Iteration 579, loss = 0.02388474\n",
      "Iteration 580, loss = 0.02346087\n",
      "Iteration 581, loss = 0.02364953\n",
      "Iteration 582, loss = 0.02417310\n",
      "Iteration 583, loss = 0.02280707\n",
      "Iteration 584, loss = 0.02292651\n",
      "Iteration 585, loss = 0.02299199\n",
      "Iteration 586, loss = 0.02305945\n",
      "Iteration 587, loss = 0.02320256\n",
      "Iteration 588, loss = 0.02257195\n",
      "Iteration 589, loss = 0.02243938\n",
      "Iteration 590, loss = 0.02254875\n",
      "Iteration 591, loss = 0.02235138\n",
      "Iteration 592, loss = 0.02200243\n",
      "Iteration 593, loss = 0.02188927\n",
      "Iteration 594, loss = 0.02199380\n",
      "Iteration 595, loss = 0.02193413\n",
      "Iteration 596, loss = 0.02157047\n",
      "Iteration 597, loss = 0.02152172\n",
      "Iteration 598, loss = 0.02189841\n",
      "Iteration 599, loss = 0.02170300\n",
      "Iteration 600, loss = 0.02175593\n",
      "Iteration 601, loss = 0.02177002\n",
      "Iteration 602, loss = 0.02108245\n",
      "Iteration 603, loss = 0.02113410\n",
      "Iteration 604, loss = 0.02095724\n",
      "Iteration 605, loss = 0.02078601\n",
      "Iteration 606, loss = 0.02077395\n",
      "Iteration 607, loss = 0.02123885\n",
      "Iteration 608, loss = 0.02061802\n",
      "Iteration 609, loss = 0.02059710\n",
      "Iteration 610, loss = 0.02079414\n",
      "Iteration 611, loss = 0.02060935\n",
      "Iteration 612, loss = 0.02036782\n",
      "Iteration 613, loss = 0.02022095\n",
      "Iteration 614, loss = 0.02003179\n",
      "Iteration 615, loss = 0.01999908\n",
      "Iteration 616, loss = 0.02001143\n",
      "Iteration 617, loss = 0.02009147\n",
      "Iteration 618, loss = 0.02017623\n",
      "Iteration 619, loss = 0.01982148\n",
      "Iteration 620, loss = 0.01954567\n",
      "Iteration 621, loss = 0.01948072\n",
      "Iteration 622, loss = 0.01943593\n",
      "Iteration 623, loss = 0.01925306\n",
      "Iteration 624, loss = 0.01924446\n",
      "Iteration 625, loss = 0.01939137\n",
      "Iteration 626, loss = 0.01908344\n",
      "Iteration 627, loss = 0.01939375\n",
      "Iteration 628, loss = 0.01920236\n",
      "Iteration 629, loss = 0.01881572\n",
      "Iteration 630, loss = 0.01921369\n",
      "Iteration 631, loss = 0.01887848\n",
      "Iteration 632, loss = 0.01923224\n",
      "Iteration 633, loss = 0.02009109\n",
      "Iteration 634, loss = 0.01984983\n",
      "Iteration 635, loss = 0.01847487\n",
      "Iteration 636, loss = 0.01847039\n",
      "Iteration 637, loss = 0.01843270\n",
      "Iteration 638, loss = 0.01887811\n",
      "Iteration 639, loss = 0.01893255\n",
      "Iteration 640, loss = 0.01868391\n",
      "Iteration 641, loss = 0.01799700\n",
      "Iteration 642, loss = 0.01797326\n",
      "Iteration 643, loss = 0.01820911\n",
      "Iteration 644, loss = 0.01789883\n",
      "Iteration 645, loss = 0.01767826\n",
      "Iteration 646, loss = 0.01835924\n",
      "Iteration 647, loss = 0.01903770\n",
      "Iteration 648, loss = 0.01899969\n",
      "Iteration 649, loss = 0.01798190\n",
      "Iteration 650, loss = 0.01732138\n",
      "Iteration 651, loss = 0.01728424\n",
      "Iteration 652, loss = 0.01720643\n",
      "Iteration 653, loss = 0.01718444\n",
      "Iteration 654, loss = 0.01709165\n",
      "Iteration 655, loss = 0.01719898\n",
      "Iteration 656, loss = 0.01716476\n",
      "Iteration 657, loss = 0.01703735\n",
      "Iteration 658, loss = 0.01692141\n",
      "Iteration 659, loss = 0.01672027\n",
      "Iteration 660, loss = 0.01668775\n",
      "Iteration 661, loss = 0.01690993\n",
      "Iteration 662, loss = 0.01664208\n",
      "Iteration 663, loss = 0.01657818\n",
      "Iteration 664, loss = 0.01642140\n",
      "Iteration 665, loss = 0.01658335\n",
      "Iteration 666, loss = 0.01642919\n",
      "Iteration 667, loss = 0.01660218\n",
      "Iteration 668, loss = 0.01637285\n",
      "Iteration 669, loss = 0.01612073\n",
      "Iteration 670, loss = 0.01617834\n",
      "Iteration 671, loss = 0.01626867\n",
      "Iteration 672, loss = 0.01611723\n",
      "Iteration 673, loss = 0.01596336\n",
      "Iteration 674, loss = 0.01598040\n",
      "Iteration 675, loss = 0.01590594\n",
      "Iteration 676, loss = 0.01608009\n",
      "Iteration 677, loss = 0.01605136\n",
      "Iteration 678, loss = 0.01577058\n",
      "Iteration 679, loss = 0.01560155\n",
      "Iteration 680, loss = 0.01560135\n",
      "Iteration 681, loss = 0.01613768\n",
      "Iteration 682, loss = 0.01604250\n",
      "Iteration 683, loss = 0.01555372\n",
      "Iteration 684, loss = 0.01563670\n",
      "Iteration 685, loss = 0.01533323\n",
      "Iteration 686, loss = 0.01540401\n",
      "Iteration 687, loss = 0.01524347\n",
      "Iteration 688, loss = 0.01524433\n",
      "Iteration 689, loss = 0.01511296\n",
      "Iteration 690, loss = 0.01511762\n",
      "Iteration 691, loss = 0.01495568\n",
      "Iteration 692, loss = 0.01510353\n",
      "Iteration 693, loss = 0.01490238\n",
      "Iteration 694, loss = 0.01480241\n",
      "Iteration 695, loss = 0.01531819\n",
      "Iteration 696, loss = 0.01494300\n",
      "Iteration 697, loss = 0.01517844\n",
      "Iteration 698, loss = 0.01484858\n",
      "Iteration 699, loss = 0.01454139\n",
      "Iteration 700, loss = 0.01456501\n",
      "Iteration 701, loss = 0.01457014\n",
      "Iteration 702, loss = 0.01458357\n",
      "Iteration 703, loss = 0.01436600\n",
      "Iteration 704, loss = 0.01441810\n",
      "Iteration 705, loss = 0.01469586\n",
      "Iteration 706, loss = 0.01484471\n",
      "Iteration 707, loss = 0.01428537\n",
      "Iteration 708, loss = 0.01419582\n",
      "Iteration 709, loss = 0.01421259\n",
      "Iteration 710, loss = 0.01417556\n",
      "Iteration 711, loss = 0.01400273\n",
      "Iteration 712, loss = 0.01405767\n",
      "Iteration 713, loss = 0.01397586\n",
      "Iteration 714, loss = 0.01398992\n",
      "Iteration 715, loss = 0.01397704\n",
      "Iteration 716, loss = 0.01401564\n",
      "Iteration 717, loss = 0.01405345\n",
      "Iteration 718, loss = 0.01427713\n",
      "Iteration 719, loss = 0.01411087\n",
      "Iteration 720, loss = 0.01370613\n",
      "Iteration 721, loss = 0.01369161\n",
      "Iteration 722, loss = 0.01372653\n",
      "Iteration 723, loss = 0.01351498\n",
      "Iteration 724, loss = 0.01347939\n",
      "Iteration 725, loss = 0.01359449\n",
      "Iteration 726, loss = 0.01343645\n",
      "Iteration 727, loss = 0.01338136\n",
      "Iteration 728, loss = 0.01332611\n",
      "Iteration 729, loss = 0.01332500\n",
      "Iteration 730, loss = 0.01335746\n",
      "Iteration 731, loss = 0.01340573\n",
      "Iteration 732, loss = 0.01342029\n",
      "Iteration 733, loss = 0.01337346\n",
      "Iteration 734, loss = 0.01322470\n",
      "Iteration 735, loss = 0.01314062\n",
      "Iteration 736, loss = 0.01305436\n",
      "Iteration 737, loss = 0.01304280\n",
      "Iteration 738, loss = 0.01293627\n",
      "Iteration 739, loss = 0.01300018\n",
      "Iteration 740, loss = 0.01295139\n",
      "Iteration 741, loss = 0.01288197\n",
      "Iteration 742, loss = 0.01280884\n",
      "Iteration 743, loss = 0.01280045\n",
      "Iteration 744, loss = 0.01270451\n",
      "Iteration 745, loss = 0.01268705\n",
      "Iteration 746, loss = 0.01263540\n",
      "Iteration 747, loss = 0.01266885\n",
      "Iteration 748, loss = 0.01269107\n",
      "Iteration 749, loss = 0.01262290\n",
      "Training loss did not improve more than tol=0.000100 for 10 consecutive epochs. Stopping.\n"
     ]
    },
    {
     "data": {
      "text/plain": [
       "MLPClassifier(hidden_layer_sizes=(64, 16), max_iter=5000, verbose=1)"
      ]
     },
     "execution_count": 5,
     "metadata": {},
     "output_type": "execute_result"
    }
   ],
   "source": [
    "model_nlp = MLPClassifier(activation='relu', hidden_layer_sizes=(64,16), verbose = 1, max_iter = 5000)\n",
    "model_nlp.fit(x_train, y_train)"
   ]
  },
  {
   "cell_type": "code",
   "execution_count": 6,
   "id": "collect-acting",
   "metadata": {},
   "outputs": [
    {
     "name": "stdout",
     "output_type": "stream",
     "text": [
      "\n",
      "Training Accuracy: 99.9231950844854\n",
      "Training Loss: 0.012622896608796718\n",
      "Testing Accuracy: 78.89125799573561\n",
      "Testing Loss: 3.503278364785421\n"
     ]
    }
   ],
   "source": [
    "pred_train = model_nlp.predict(x_train)\n",
    "print(\"\\nTraining Accuracy:\",accuracy_score(pred_train, y_train)*100)\n",
    "print(\"Training Loss:\",model_nlp.loss_)\n",
    "\n",
    "pred_test = model_nlp.predict(x_test)\n",
    "prob = model_nlp.predict_proba(x_test)\n",
    "loss = log_loss(y_test,prob)\n",
    "print(\"Testing Accuracy:\",accuracy_score(pred_test, y_test)*100)\n",
    "print(\"Testing Loss:\",loss)"
   ]
  },
  {
   "cell_type": "code",
   "execution_count": 7,
   "id": "unique-wings",
   "metadata": {},
   "outputs": [
    {
     "name": "stdout",
     "output_type": "stream",
     "text": [
      "Linear Model Accuracy:  0.7302771855010661\n"
     ]
    }
   ],
   "source": [
    "lin_model = LogisticRegression(solver='lbfgs')\n",
    "lin_model.fit(x_train, y_train)\n",
    "print(\"Linear Model Accuracy: \", lin_model.score(x_test, y_test))"
   ]
  },
  {
   "cell_type": "code",
   "execution_count": 8,
   "id": "viral-sense",
   "metadata": {},
   "outputs": [
    {
     "name": "stdout",
     "output_type": "stream",
     "text": [
      "\n",
      "Training Accuracy: 76.57450076804916\n",
      "Testing Accuracy: 73.02771855010661\n",
      "Testing Loss: 0.6717659741149024\n"
     ]
    }
   ],
   "source": [
    "pred_train = lin_model.predict(x_train)\n",
    "print(\"\\nTraining Accuracy:\",accuracy_score(pred_train, y_train)*100)\n",
    "#print(\"Training Loss:\",lin_model.loss_)\n",
    "\n",
    "pred_test = lin_model.predict(x_test)\n",
    "prob = lin_model.predict_proba(x_test)\n",
    "loss = log_loss(y_test,prob)\n",
    "print(\"Testing Accuracy:\",accuracy_score(pred_test, y_test)*100)\n",
    "print(\"Testing Loss:\",loss)"
   ]
  },
  {
   "cell_type": "code",
   "execution_count": 9,
   "id": "grateful-japan",
   "metadata": {},
   "outputs": [
    {
     "name": "stdout",
     "output_type": "stream",
     "text": [
      "Decision Tree Model Accuracy:  0.7974413646055437\n"
     ]
    }
   ],
   "source": [
    "tree_model = DecisionTreeClassifier()\n",
    "tree_model.fit(x_train, y_train)\n",
    "print(\"Decision Tree Model Accuracy: \", tree_model.score(x_test, y_test))"
   ]
  },
  {
   "cell_type": "code",
   "execution_count": 10,
   "id": "hazardous-struggle",
   "metadata": {},
   "outputs": [
    {
     "name": "stdout",
     "output_type": "stream",
     "text": [
      "\n",
      "Training Accuracy: 100.0\n",
      "Testing Accuracy: 79.74413646055437\n",
      "Testing Loss: 6.9961274147473675\n"
     ]
    }
   ],
   "source": [
    "pred_train = tree_model.predict(x_train)\n",
    "print(\"\\nTraining Accuracy:\",accuracy_score(pred_train, y_train)*100)\n",
    "#print(\"Training Loss:\",tree_model.loss_)\n",
    "\n",
    "pred_test = tree_model.predict(x_test)\n",
    "prob = tree_model.predict_proba(x_test)\n",
    "loss = log_loss(y_test,prob)\n",
    "print(\"Testing Accuracy:\",accuracy_score(pred_test, y_test)*100)\n",
    "print(\"Testing Loss:\",loss)"
   ]
  },
  {
   "cell_type": "code",
   "execution_count": 11,
   "id": "blessed-trinity",
   "metadata": {},
   "outputs": [],
   "source": [
    "x = np.array(x_train)\n",
    "xx = np.array(x_test)"
   ]
  },
  {
   "cell_type": "code",
   "execution_count": 12,
   "id": "medieval-innocent",
   "metadata": {},
   "outputs": [
    {
     "name": "stderr",
     "output_type": "stream",
     "text": [
      "C:\\Users\\LENOVO\\anaconda3\\lib\\site-packages\\xgboost\\sklearn.py:888: UserWarning: The use of label encoder in XGBClassifier is deprecated and will be removed in a future release. To remove this warning, do the following: 1) Pass option use_label_encoder=False when constructing XGBClassifier object; and 2) Encode your labels (y) as integers starting with 0, i.e. 0, 1, 2, ..., [num_class - 1].\n",
      "  warnings.warn(label_encoder_deprecation_msg, UserWarning)\n"
     ]
    },
    {
     "name": "stdout",
     "output_type": "stream",
     "text": [
      "[19:16:39] WARNING: C:/Users/Administrator/workspace/xgboost-win64_release_1.3.0/src/learner.cc:1061: Starting in XGBoost 1.3.0, the default evaluation metric used with the objective 'binary:logistic' was changed from 'error' to 'logloss'. Explicitly set eval_metric if you'd like to restore the old behavior.\n",
      "XGB Classifier Accuracy:  0.7974413646055437\n"
     ]
    }
   ],
   "source": [
    "xgb_model=XGBClassifier( learning_rate=0.1, max_depth=16,min_child_weight=1, random_state=0)\n",
    "xgb_model.fit(x, y_train)\n",
    "print(\"XGB Classifier Accuracy: \", xgb_model.score(xx, y_test))"
   ]
  },
  {
   "cell_type": "code",
   "execution_count": 13,
   "id": "welcome-compilation",
   "metadata": {},
   "outputs": [
    {
     "name": "stdout",
     "output_type": "stream",
     "text": [
      "\n",
      "Training Accuracy: 100.0\n",
      "Testing Accuracy: 84.00852878464818\n",
      "Testing Loss: 0.4056704466991714\n"
     ]
    }
   ],
   "source": [
    "pred_train = xgb_model.predict(x)\n",
    "print(\"\\nTraining Accuracy:\",accuracy_score(pred_train, y_train)*100)\n",
    "#print(\"Training Loss:\",tree_model.loss_)\n",
    "\n",
    "pred_test = xgb_model.predict(xx)\n",
    "prob = xgb_model.predict_proba(xx)\n",
    "loss = log_loss(y_test,prob)\n",
    "print(\"Testing Accuracy:\",accuracy_score(pred_test, y_test)*100)\n",
    "print(\"Testing Loss:\",loss)"
   ]
  },
  {
   "cell_type": "code",
   "execution_count": 14,
   "id": "recovered-street",
   "metadata": {},
   "outputs": [
    {
     "name": "stdout",
     "output_type": "stream",
     "text": [
      "Random Forest Model Accuracy:  0.8081023454157783\n"
     ]
    }
   ],
   "source": [
    "forest_model = RandomForestClassifier(n_estimators=100)\n",
    "forest_model.fit(x_train, y_train)\n",
    "print(\"Random Forest Model Accuracy: \", forest_model.score(x_test, y_test))"
   ]
  },
  {
   "cell_type": "code",
   "execution_count": 15,
   "id": "inside-hungarian",
   "metadata": {},
   "outputs": [
    {
     "name": "stdout",
     "output_type": "stream",
     "text": [
      "\n",
      "Training Accuracy: 100.0\n",
      "Testing Accuracy: 80.81023454157783\n",
      "Testing Loss: 0.3915983906478122\n"
     ]
    }
   ],
   "source": [
    "pred_train = forest_model.predict(x_train)\n",
    "print(\"\\nTraining Accuracy:\",accuracy_score(pred_train, y_train)*100)\n",
    "#print(\"Training Loss:\",tree_model.loss_)\n",
    "\n",
    "pred_test =forest_model.predict(x_test)\n",
    "prob = forest_model.predict_proba(x_test)\n",
    "loss = log_loss(y_test,prob)\n",
    "print(\"Testing Accuracy:\",accuracy_score(pred_test, y_test)*100)\n",
    "print(\"Testing Loss:\",loss)"
   ]
  },
  {
   "cell_type": "code",
   "execution_count": 16,
   "id": "little-alliance",
   "metadata": {},
   "outputs": [
    {
     "name": "stdout",
     "output_type": "stream",
     "text": [
      "Adaboost Model Accuracy:  0.7782515991471215\n"
     ]
    }
   ],
   "source": [
    "adaboost_model = AdaBoostClassifier(n_estimators=50,\n",
    "                         learning_rate=1)\n",
    "adaboost_model.fit(x_train, y_train)\n",
    "print(\"Adaboost Model Accuracy: \", adaboost_model.score(x_test, y_test))"
   ]
  },
  {
   "cell_type": "code",
   "execution_count": 17,
   "id": "scenic-forth",
   "metadata": {},
   "outputs": [
    {
     "name": "stdout",
     "output_type": "stream",
     "text": [
      "\n",
      "Training Accuracy: 88.40245775729647\n",
      "Testing Accuracy: 77.82515991471215\n",
      "Testing Loss: 0.6549765182068684\n"
     ]
    }
   ],
   "source": [
    "pred_train = adaboost_model.predict(x_train)\n",
    "print(\"\\nTraining Accuracy:\",accuracy_score(pred_train, y_train)*100)\n",
    "#print(\"Training Loss:\",tree_model.loss_)\n",
    "\n",
    "pred_test = adaboost_model.predict(x_test)\n",
    "prob = adaboost_model.predict_proba(x_test)\n",
    "loss = log_loss(y_test,prob)\n",
    "print(\"Testing Accuracy:\",accuracy_score(pred_test, y_test)*100)\n",
    "print(\"Testing Loss:\",loss)"
   ]
  },
  {
   "cell_type": "code",
   "execution_count": 18,
   "id": "three-referral",
   "metadata": {},
   "outputs": [
    {
     "name": "stdout",
     "output_type": "stream",
     "text": [
      "Support Vector Machine Model Accuracy:  0.7281449893390192\n"
     ]
    }
   ],
   "source": [
    "svm_model = SVC(kernel = 'rbf')\n",
    "svm_model.fit(x_train, y_train)\n",
    "print(\"Support Vector Machine Model Accuracy: \", svm_model.score(x_test, y_test))"
   ]
  },
  {
   "cell_type": "code",
   "execution_count": 19,
   "id": "split-active",
   "metadata": {},
   "outputs": [
    {
     "name": "stdout",
     "output_type": "stream",
     "text": [
      "\n",
      "Training Accuracy: 93.31797235023042\n",
      "Testing Accuracy: 72.81449893390192\n",
      "Testing Loss: 0.6549765182068684\n"
     ]
    }
   ],
   "source": [
    "pred_train = svm_model.predict(x_train)\n",
    "print(\"\\nTraining Accuracy:\",accuracy_score(pred_train, y_train)*100)\n",
    "#print(\"Training Loss:\",tree_model.loss_)\n",
    "\n",
    "pred_test =svm_model.predict(x_test)\n",
    "#prob = svm_model.predict_proba(x_test)\n",
    "#loss = log_loss(y_test,prob)\n",
    "print(\"Testing Accuracy:\",accuracy_score(pred_test, y_test)*100)\n",
    "print(\"Testing Loss:\",loss)"
   ]
  },
  {
   "cell_type": "code",
   "execution_count": 20,
   "id": "attempted-guyana",
   "metadata": {},
   "outputs": [
    {
     "name": "stdout",
     "output_type": "stream",
     "text": [
      "Naive Bayes Model Accuracy:  0.7292110874200426\n"
     ]
    }
   ],
   "source": [
    "nb_model = GaussianNB()\n",
    "nb_model.fit(x_train, y_train)\n",
    "print(\"Naive Bayes Model Accuracy: \", nb_model.score(x_test, y_test))"
   ]
  },
  {
   "cell_type": "code",
   "execution_count": 21,
   "id": "younger-vacuum",
   "metadata": {},
   "outputs": [
    {
     "name": "stdout",
     "output_type": "stream",
     "text": [
      "\n",
      "Training Accuracy: 83.48694316436251\n",
      "Testing Accuracy: 72.92110874200426\n",
      "Testing Loss: 8.709456831737231\n"
     ]
    }
   ],
   "source": [
    "pred_train = nb_model.predict(x_train)\n",
    "print(\"\\nTraining Accuracy:\",accuracy_score(pred_train, y_train)*100)\n",
    "#print(\"Training Loss:\",tree_model.loss_)\n",
    "\n",
    "pred_test = nb_model.predict(x_test)\n",
    "prob = nb_model.predict_proba(x_test)\n",
    "loss = log_loss(y_test,prob)\n",
    "print(\"Testing Accuracy:\",accuracy_score(pred_test, y_test)*100)\n",
    "print(\"Testing Loss:\",loss)"
   ]
  },
  {
   "cell_type": "code",
   "execution_count": 22,
   "id": "graphic-analysis",
   "metadata": {},
   "outputs": [],
   "source": [
    "hybrid_model = [('lr',LogisticRegression()),('svm',SVC(kernel = 'rbf'))]\n",
    "stacking=StackingClassifier(estimators=hybrid_model)"
   ]
  },
  {
   "cell_type": "code",
   "execution_count": 23,
   "id": "ranging-dividend",
   "metadata": {},
   "outputs": [
    {
     "name": "stdout",
     "output_type": "stream",
     "text": [
      "Hybrid Model Accuracy:  0.7025586353944563\n"
     ]
    }
   ],
   "source": [
    "stacking.fit(x_train, y_train)\n",
    "print(\"Hybrid Model Accuracy: \", stacking.score(x_test, y_test))"
   ]
  },
  {
   "cell_type": "code",
   "execution_count": 24,
   "id": "demonstrated-guess",
   "metadata": {},
   "outputs": [
    {
     "name": "stdout",
     "output_type": "stream",
     "text": [
      "\n",
      "Training Accuracy: 93.394777265745\n",
      "Testing Accuracy: 70.25586353944563\n",
      "Testing Loss: 0.489790918133255\n"
     ]
    }
   ],
   "source": [
    "pred_train = stacking.predict(x_train)\n",
    "print(\"\\nTraining Accuracy:\",accuracy_score(pred_train, y_train)*100)\n",
    "#print(\"Training Loss:\",tree_model.loss_)\n",
    "\n",
    "pred_test = stacking.predict(x_test)\n",
    "prob = stacking.predict_proba(x_test)\n",
    "loss = log_loss(y_test,prob)\n",
    "print(\"Testing Accuracy:\",accuracy_score(pred_test, y_test)*100)\n",
    "print(\"Testing Loss:\",loss)"
   ]
  },
  {
   "cell_type": "code",
   "execution_count": 25,
   "id": "vocal-bargain",
   "metadata": {},
   "outputs": [],
   "source": [
    "hybrid_model = [('lr',SVC(kernel = 'rbf')),('svm',LogisticRegression())]\n",
    "stacking=StackingClassifier(estimators=hybrid_model)"
   ]
  },
  {
   "cell_type": "code",
   "execution_count": 26,
   "id": "august-neighborhood",
   "metadata": {},
   "outputs": [
    {
     "name": "stdout",
     "output_type": "stream",
     "text": [
      "Hybrid Model Accuracy:  0.7025586353944563\n"
     ]
    }
   ],
   "source": [
    "stacking.fit(x_train, y_train)\n",
    "print(\"Hybrid Model Accuracy: \", stacking.score(x_test, y_test))"
   ]
  },
  {
   "cell_type": "code",
   "execution_count": 27,
   "id": "opened-uzbekistan",
   "metadata": {},
   "outputs": [
    {
     "name": "stdout",
     "output_type": "stream",
     "text": [
      "\n",
      "Training Accuracy: 93.394777265745\n",
      "Testing Accuracy: 70.25586353944563\n",
      "Testing Loss: 0.489790918133255\n"
     ]
    }
   ],
   "source": [
    "pred_train = stacking.predict(x_train)\n",
    "print(\"\\nTraining Accuracy:\",accuracy_score(pred_train, y_train)*100)\n",
    "#print(\"Training Loss:\",tree_model.loss_)\n",
    "\n",
    "pred_test = stacking.predict(x_test)\n",
    "prob = stacking.predict_proba(x_test)\n",
    "loss = log_loss(y_test,prob)\n",
    "print(\"Testing Accuracy:\",accuracy_score(pred_test, y_test)*100)\n",
    "print(\"Testing Loss:\",loss)"
   ]
  },
  {
   "cell_type": "code",
   "execution_count": 28,
   "id": "rising-luxembourg",
   "metadata": {},
   "outputs": [],
   "source": [
    "hybrid_model = [('lr',RandomForestClassifier()),('svm',SVC(kernel = 'rbf'))]\n",
    "stacking=StackingClassifier(estimators=hybrid_model)"
   ]
  },
  {
   "cell_type": "code",
   "execution_count": 29,
   "id": "original-tuition",
   "metadata": {},
   "outputs": [
    {
     "name": "stdout",
     "output_type": "stream",
     "text": [
      "Hybrid Model Accuracy:  0.755863539445629\n"
     ]
    }
   ],
   "source": [
    "stacking.fit(x_train, y_train)\n",
    "print(\"Hybrid Model Accuracy: \", stacking.score(x_test, y_test))"
   ]
  },
  {
   "cell_type": "code",
   "execution_count": 30,
   "id": "certain-renaissance",
   "metadata": {},
   "outputs": [
    {
     "name": "stdout",
     "output_type": "stream",
     "text": [
      "\n",
      "Training Accuracy: 99.69278033794163\n",
      "Testing Accuracy: 75.5863539445629\n",
      "Testing Loss: 0.45799167232748467\n"
     ]
    }
   ],
   "source": [
    "pred_train = stacking.predict(x_train)\n",
    "print(\"\\nTraining Accuracy:\",accuracy_score(pred_train, y_train)*100)\n",
    "#print(\"Training Loss:\",tree_model.loss_)\n",
    "\n",
    "pred_test = stacking.predict(x_test)\n",
    "prob = stacking.predict_proba(x_test)\n",
    "loss = log_loss(y_test,prob)\n",
    "print(\"Testing Accuracy:\",accuracy_score(pred_test, y_test)*100)\n",
    "print(\"Testing Loss:\",loss)"
   ]
  },
  {
   "cell_type": "code",
   "execution_count": 31,
   "id": "electronic-genetics",
   "metadata": {},
   "outputs": [],
   "source": [
    "hybrid_model = [('lr',XGBClassifier( learning_rate=0.1, max_depth=16,min_child_weight=1, random_state=0)),('svm',RandomForestClassifier())]\n",
    "stacking=StackingClassifier(estimators=hybrid_model)"
   ]
  },
  {
   "cell_type": "code",
   "execution_count": 32,
   "id": "removed-roller",
   "metadata": {},
   "outputs": [],
   "source": [
    "x = np.array(x_train)\n",
    "xx = np.array(x_test)"
   ]
  },
  {
   "cell_type": "code",
   "execution_count": 33,
   "id": "hazardous-acrobat",
   "metadata": {},
   "outputs": [
    {
     "name": "stdout",
     "output_type": "stream",
     "text": [
      "[19:16:55] WARNING: C:/Users/Administrator/workspace/xgboost-win64_release_1.3.0/src/learner.cc:1061: Starting in XGBoost 1.3.0, the default evaluation metric used with the objective 'binary:logistic' was changed from 'error' to 'logloss'. Explicitly set eval_metric if you'd like to restore the old behavior.\n"
     ]
    },
    {
     "name": "stderr",
     "output_type": "stream",
     "text": [
      "C:\\Users\\LENOVO\\anaconda3\\lib\\site-packages\\xgboost\\sklearn.py:888: UserWarning: The use of label encoder in XGBClassifier is deprecated and will be removed in a future release. To remove this warning, do the following: 1) Pass option use_label_encoder=False when constructing XGBClassifier object; and 2) Encode your labels (y) as integers starting with 0, i.e. 0, 1, 2, ..., [num_class - 1].\n",
      "  warnings.warn(label_encoder_deprecation_msg, UserWarning)\n",
      "C:\\Users\\LENOVO\\anaconda3\\lib\\site-packages\\xgboost\\sklearn.py:888: UserWarning: The use of label encoder in XGBClassifier is deprecated and will be removed in a future release. To remove this warning, do the following: 1) Pass option use_label_encoder=False when constructing XGBClassifier object; and 2) Encode your labels (y) as integers starting with 0, i.e. 0, 1, 2, ..., [num_class - 1].\n",
      "  warnings.warn(label_encoder_deprecation_msg, UserWarning)\n"
     ]
    },
    {
     "name": "stdout",
     "output_type": "stream",
     "text": [
      "[19:16:57] WARNING: C:/Users/Administrator/workspace/xgboost-win64_release_1.3.0/src/learner.cc:1061: Starting in XGBoost 1.3.0, the default evaluation metric used with the objective 'binary:logistic' was changed from 'error' to 'logloss'. Explicitly set eval_metric if you'd like to restore the old behavior.\n"
     ]
    },
    {
     "name": "stderr",
     "output_type": "stream",
     "text": [
      "C:\\Users\\LENOVO\\anaconda3\\lib\\site-packages\\xgboost\\sklearn.py:888: UserWarning: The use of label encoder in XGBClassifier is deprecated and will be removed in a future release. To remove this warning, do the following: 1) Pass option use_label_encoder=False when constructing XGBClassifier object; and 2) Encode your labels (y) as integers starting with 0, i.e. 0, 1, 2, ..., [num_class - 1].\n",
      "  warnings.warn(label_encoder_deprecation_msg, UserWarning)\n"
     ]
    },
    {
     "name": "stdout",
     "output_type": "stream",
     "text": [
      "[19:16:58] WARNING: C:/Users/Administrator/workspace/xgboost-win64_release_1.3.0/src/learner.cc:1061: Starting in XGBoost 1.3.0, the default evaluation metric used with the objective 'binary:logistic' was changed from 'error' to 'logloss'. Explicitly set eval_metric if you'd like to restore the old behavior.\n"
     ]
    },
    {
     "name": "stderr",
     "output_type": "stream",
     "text": [
      "C:\\Users\\LENOVO\\anaconda3\\lib\\site-packages\\xgboost\\sklearn.py:888: UserWarning: The use of label encoder in XGBClassifier is deprecated and will be removed in a future release. To remove this warning, do the following: 1) Pass option use_label_encoder=False when constructing XGBClassifier object; and 2) Encode your labels (y) as integers starting with 0, i.e. 0, 1, 2, ..., [num_class - 1].\n",
      "  warnings.warn(label_encoder_deprecation_msg, UserWarning)\n"
     ]
    },
    {
     "name": "stdout",
     "output_type": "stream",
     "text": [
      "[19:16:59] WARNING: C:/Users/Administrator/workspace/xgboost-win64_release_1.3.0/src/learner.cc:1061: Starting in XGBoost 1.3.0, the default evaluation metric used with the objective 'binary:logistic' was changed from 'error' to 'logloss'. Explicitly set eval_metric if you'd like to restore the old behavior.\n"
     ]
    },
    {
     "name": "stderr",
     "output_type": "stream",
     "text": [
      "C:\\Users\\LENOVO\\anaconda3\\lib\\site-packages\\xgboost\\sklearn.py:888: UserWarning: The use of label encoder in XGBClassifier is deprecated and will be removed in a future release. To remove this warning, do the following: 1) Pass option use_label_encoder=False when constructing XGBClassifier object; and 2) Encode your labels (y) as integers starting with 0, i.e. 0, 1, 2, ..., [num_class - 1].\n",
      "  warnings.warn(label_encoder_deprecation_msg, UserWarning)\n"
     ]
    },
    {
     "name": "stdout",
     "output_type": "stream",
     "text": [
      "[19:17:01] WARNING: C:/Users/Administrator/workspace/xgboost-win64_release_1.3.0/src/learner.cc:1061: Starting in XGBoost 1.3.0, the default evaluation metric used with the objective 'binary:logistic' was changed from 'error' to 'logloss'. Explicitly set eval_metric if you'd like to restore the old behavior.\n"
     ]
    },
    {
     "name": "stderr",
     "output_type": "stream",
     "text": [
      "C:\\Users\\LENOVO\\anaconda3\\lib\\site-packages\\xgboost\\sklearn.py:888: UserWarning: The use of label encoder in XGBClassifier is deprecated and will be removed in a future release. To remove this warning, do the following: 1) Pass option use_label_encoder=False when constructing XGBClassifier object; and 2) Encode your labels (y) as integers starting with 0, i.e. 0, 1, 2, ..., [num_class - 1].\n",
      "  warnings.warn(label_encoder_deprecation_msg, UserWarning)\n"
     ]
    },
    {
     "name": "stdout",
     "output_type": "stream",
     "text": [
      "[19:17:02] WARNING: C:/Users/Administrator/workspace/xgboost-win64_release_1.3.0/src/learner.cc:1061: Starting in XGBoost 1.3.0, the default evaluation metric used with the objective 'binary:logistic' was changed from 'error' to 'logloss'. Explicitly set eval_metric if you'd like to restore the old behavior.\n",
      "Hybrid Model Accuracy:  0.8187633262260128\n"
     ]
    }
   ],
   "source": [
    "stacking.fit(x, y_train)\n",
    "print(\"Hybrid Model Accuracy: \", stacking.score(xx, y_test))"
   ]
  },
  {
   "cell_type": "code",
   "execution_count": 34,
   "id": "unlikely-representation",
   "metadata": {},
   "outputs": [
    {
     "name": "stdout",
     "output_type": "stream",
     "text": [
      "\n",
      "Training Accuracy: 100.0\n",
      "Testing Accuracy: 81.87633262260128\n",
      "Testing Loss: 0.4099387421306865\n"
     ]
    }
   ],
   "source": [
    "pred_train = stacking.predict(x)\n",
    "print(\"\\nTraining Accuracy:\",accuracy_score(pred_train, y_train)*100)\n",
    "#print(\"Training Loss:\",tree_model.loss_)\n",
    "\n",
    "pred_test = stacking.predict(xx)\n",
    "prob = stacking.predict_proba(xx)\n",
    "loss = log_loss(y_test,prob)\n",
    "print(\"Testing Accuracy:\",accuracy_score(pred_test, y_test)*100)\n",
    "print(\"Testing Loss:\",loss)"
   ]
  },
  {
   "cell_type": "code",
   "execution_count": 35,
   "id": "earned-minority",
   "metadata": {},
   "outputs": [],
   "source": [
    "hybrid_model = [('lr',RandomForestClassifier()),('svm',XGBClassifier( learning_rate=0.1, max_depth=16,min_child_weight=1, random_state=0))]\n",
    "stacking=StackingClassifier(estimators=hybrid_model)"
   ]
  },
  {
   "cell_type": "code",
   "execution_count": 36,
   "id": "protecting-cleaner",
   "metadata": {},
   "outputs": [
    {
     "name": "stderr",
     "output_type": "stream",
     "text": [
      "C:\\Users\\LENOVO\\anaconda3\\lib\\site-packages\\xgboost\\sklearn.py:888: UserWarning: The use of label encoder in XGBClassifier is deprecated and will be removed in a future release. To remove this warning, do the following: 1) Pass option use_label_encoder=False when constructing XGBClassifier object; and 2) Encode your labels (y) as integers starting with 0, i.e. 0, 1, 2, ..., [num_class - 1].\n",
      "  warnings.warn(label_encoder_deprecation_msg, UserWarning)\n"
     ]
    },
    {
     "name": "stdout",
     "output_type": "stream",
     "text": [
      "[19:17:06] WARNING: C:/Users/Administrator/workspace/xgboost-win64_release_1.3.0/src/learner.cc:1061: Starting in XGBoost 1.3.0, the default evaluation metric used with the objective 'binary:logistic' was changed from 'error' to 'logloss'. Explicitly set eval_metric if you'd like to restore the old behavior.\n"
     ]
    },
    {
     "name": "stderr",
     "output_type": "stream",
     "text": [
      "C:\\Users\\LENOVO\\anaconda3\\lib\\site-packages\\xgboost\\sklearn.py:888: UserWarning: The use of label encoder in XGBClassifier is deprecated and will be removed in a future release. To remove this warning, do the following: 1) Pass option use_label_encoder=False when constructing XGBClassifier object; and 2) Encode your labels (y) as integers starting with 0, i.e. 0, 1, 2, ..., [num_class - 1].\n",
      "  warnings.warn(label_encoder_deprecation_msg, UserWarning)\n"
     ]
    },
    {
     "name": "stdout",
     "output_type": "stream",
     "text": [
      "[19:17:10] WARNING: C:/Users/Administrator/workspace/xgboost-win64_release_1.3.0/src/learner.cc:1061: Starting in XGBoost 1.3.0, the default evaluation metric used with the objective 'binary:logistic' was changed from 'error' to 'logloss'. Explicitly set eval_metric if you'd like to restore the old behavior.\n"
     ]
    },
    {
     "name": "stderr",
     "output_type": "stream",
     "text": [
      "C:\\Users\\LENOVO\\anaconda3\\lib\\site-packages\\xgboost\\sklearn.py:888: UserWarning: The use of label encoder in XGBClassifier is deprecated and will be removed in a future release. To remove this warning, do the following: 1) Pass option use_label_encoder=False when constructing XGBClassifier object; and 2) Encode your labels (y) as integers starting with 0, i.e. 0, 1, 2, ..., [num_class - 1].\n",
      "  warnings.warn(label_encoder_deprecation_msg, UserWarning)\n"
     ]
    },
    {
     "name": "stdout",
     "output_type": "stream",
     "text": [
      "[19:17:11] WARNING: C:/Users/Administrator/workspace/xgboost-win64_release_1.3.0/src/learner.cc:1061: Starting in XGBoost 1.3.0, the default evaluation metric used with the objective 'binary:logistic' was changed from 'error' to 'logloss'. Explicitly set eval_metric if you'd like to restore the old behavior.\n"
     ]
    },
    {
     "name": "stderr",
     "output_type": "stream",
     "text": [
      "C:\\Users\\LENOVO\\anaconda3\\lib\\site-packages\\xgboost\\sklearn.py:888: UserWarning: The use of label encoder in XGBClassifier is deprecated and will be removed in a future release. To remove this warning, do the following: 1) Pass option use_label_encoder=False when constructing XGBClassifier object; and 2) Encode your labels (y) as integers starting with 0, i.e. 0, 1, 2, ..., [num_class - 1].\n",
      "  warnings.warn(label_encoder_deprecation_msg, UserWarning)\n"
     ]
    },
    {
     "name": "stdout",
     "output_type": "stream",
     "text": [
      "[19:17:12] WARNING: C:/Users/Administrator/workspace/xgboost-win64_release_1.3.0/src/learner.cc:1061: Starting in XGBoost 1.3.0, the default evaluation metric used with the objective 'binary:logistic' was changed from 'error' to 'logloss'. Explicitly set eval_metric if you'd like to restore the old behavior.\n"
     ]
    },
    {
     "name": "stderr",
     "output_type": "stream",
     "text": [
      "C:\\Users\\LENOVO\\anaconda3\\lib\\site-packages\\xgboost\\sklearn.py:888: UserWarning: The use of label encoder in XGBClassifier is deprecated and will be removed in a future release. To remove this warning, do the following: 1) Pass option use_label_encoder=False when constructing XGBClassifier object; and 2) Encode your labels (y) as integers starting with 0, i.e. 0, 1, 2, ..., [num_class - 1].\n",
      "  warnings.warn(label_encoder_deprecation_msg, UserWarning)\n"
     ]
    },
    {
     "name": "stdout",
     "output_type": "stream",
     "text": [
      "[19:17:13] WARNING: C:/Users/Administrator/workspace/xgboost-win64_release_1.3.0/src/learner.cc:1061: Starting in XGBoost 1.3.0, the default evaluation metric used with the objective 'binary:logistic' was changed from 'error' to 'logloss'. Explicitly set eval_metric if you'd like to restore the old behavior.\n"
     ]
    },
    {
     "name": "stderr",
     "output_type": "stream",
     "text": [
      "C:\\Users\\LENOVO\\anaconda3\\lib\\site-packages\\xgboost\\sklearn.py:888: UserWarning: The use of label encoder in XGBClassifier is deprecated and will be removed in a future release. To remove this warning, do the following: 1) Pass option use_label_encoder=False when constructing XGBClassifier object; and 2) Encode your labels (y) as integers starting with 0, i.e. 0, 1, 2, ..., [num_class - 1].\n",
      "  warnings.warn(label_encoder_deprecation_msg, UserWarning)\n"
     ]
    },
    {
     "name": "stdout",
     "output_type": "stream",
     "text": [
      "[19:17:15] WARNING: C:/Users/Administrator/workspace/xgboost-win64_release_1.3.0/src/learner.cc:1061: Starting in XGBoost 1.3.0, the default evaluation metric used with the objective 'binary:logistic' was changed from 'error' to 'logloss'. Explicitly set eval_metric if you'd like to restore the old behavior.\n",
      "Hybrid Model Accuracy:  0.8198294243070362\n"
     ]
    }
   ],
   "source": [
    "stacking.fit(x, y_train)\n",
    "print(\"Hybrid Model Accuracy: \", stacking.score(xx, y_test))"
   ]
  },
  {
   "cell_type": "code",
   "execution_count": 37,
   "id": "stretch-magnet",
   "metadata": {},
   "outputs": [
    {
     "name": "stdout",
     "output_type": "stream",
     "text": [
      "\n",
      "Training Accuracy: 100.0\n",
      "Testing Accuracy: 81.98294243070362\n",
      "Testing Loss: 0.40339165492017287\n"
     ]
    }
   ],
   "source": [
    "pred_train = stacking.predict(x)\n",
    "print(\"\\nTraining Accuracy:\",accuracy_score(pred_train, y_train)*100)\n",
    "#print(\"Training Loss:\",tree_model.loss_)\n",
    "\n",
    "pred_test = stacking.predict(xx)\n",
    "prob = stacking.predict_proba(xx)\n",
    "loss = log_loss(y_test,prob)\n",
    "print(\"Testing Accuracy:\",accuracy_score(pred_test, y_test)*100)\n",
    "print(\"Testing Loss:\",loss)"
   ]
  },
  {
   "cell_type": "code",
   "execution_count": null,
   "id": "south-boundary",
   "metadata": {},
   "outputs": [],
   "source": []
  }
 ],
 "metadata": {
  "kernelspec": {
   "display_name": "Python 3",
   "language": "python",
   "name": "python3"
  },
  "language_info": {
   "codemirror_mode": {
    "name": "ipython",
    "version": 3
   },
   "file_extension": ".py",
   "mimetype": "text/x-python",
   "name": "python",
   "nbconvert_exporter": "python",
   "pygments_lexer": "ipython3",
   "version": "3.8.5"
  }
 },
 "nbformat": 4,
 "nbformat_minor": 5
}
